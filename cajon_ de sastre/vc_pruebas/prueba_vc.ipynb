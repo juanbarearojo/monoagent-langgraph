{
 "cells": [
  {
   "cell_type": "markdown",
   "id": "0ff6a339",
   "metadata": {},
   "source": [
    "# Uso de la red neuronal para la detección de monos\n"
   ]
  },
  {
   "cell_type": "markdown",
   "id": "cdad1f8d",
   "metadata": {},
   "source": [
    "## 1. Dependecias"
   ]
  },
  {
   "cell_type": "code",
   "execution_count": 1,
   "id": "afc3472b",
   "metadata": {},
   "outputs": [
    {
     "name": "stdout",
     "output_type": "stream",
     "text": [
      "Requirement already satisfied: torch in c:\\users\\usuario\\appdata\\local\\programs\\python\\python311\\lib\\site-packages (2.5.1+cu124)\n",
      "Requirement already satisfied: torchvision in c:\\users\\usuario\\appdata\\local\\programs\\python\\python311\\lib\\site-packages (0.20.1+cu124)\n",
      "Requirement already satisfied: pillow in c:\\users\\usuario\\appdata\\local\\programs\\python\\python311\\lib\\site-packages (11.1.0)\n",
      "Requirement already satisfied: huggingface_hub in c:\\users\\usuario\\appdata\\local\\programs\\python\\python311\\lib\\site-packages (0.34.3)\n",
      "Requirement already satisfied: filelock in c:\\users\\usuario\\appdata\\local\\programs\\python\\python311\\lib\\site-packages (from torch) (3.13.1)\n",
      "Requirement already satisfied: typing-extensions>=4.8.0 in c:\\users\\usuario\\appdata\\local\\programs\\python\\python311\\lib\\site-packages (from torch) (4.12.2)\n",
      "Requirement already satisfied: networkx in c:\\users\\usuario\\appdata\\local\\programs\\python\\python311\\lib\\site-packages (from torch) (3.2.1)\n",
      "Requirement already satisfied: jinja2 in c:\\users\\usuario\\appdata\\local\\programs\\python\\python311\\lib\\site-packages (from torch) (3.1.5)\n",
      "Requirement already satisfied: fsspec in c:\\users\\usuario\\appdata\\local\\programs\\python\\python311\\lib\\site-packages (from torch) (2024.2.0)\n",
      "Requirement already satisfied: sympy==1.13.1 in c:\\users\\usuario\\appdata\\local\\programs\\python\\python311\\lib\\site-packages (from torch) (1.13.1)\n",
      "Requirement already satisfied: mpmath<1.4,>=1.1.0 in c:\\users\\usuario\\appdata\\local\\programs\\python\\python311\\lib\\site-packages (from sympy==1.13.1->torch) (1.3.0)\n",
      "Requirement already satisfied: numpy in c:\\users\\usuario\\appdata\\local\\programs\\python\\python311\\lib\\site-packages (from torchvision) (1.26.3)\n",
      "Requirement already satisfied: packaging>=20.9 in c:\\users\\usuario\\appdata\\roaming\\python\\python311\\site-packages (from huggingface_hub) (24.1)\n",
      "Requirement already satisfied: pyyaml>=5.1 in c:\\users\\usuario\\appdata\\local\\programs\\python\\python311\\lib\\site-packages (from huggingface_hub) (6.0.2)\n",
      "Requirement already satisfied: requests in c:\\users\\usuario\\appdata\\local\\programs\\python\\python311\\lib\\site-packages (from huggingface_hub) (2.32.3)\n",
      "Requirement already satisfied: tqdm>=4.42.1 in c:\\users\\usuario\\appdata\\local\\programs\\python\\python311\\lib\\site-packages (from huggingface_hub) (4.66.6)\n",
      "Requirement already satisfied: colorama in c:\\users\\usuario\\appdata\\roaming\\python\\python311\\site-packages (from tqdm>=4.42.1->huggingface_hub) (0.4.6)\n",
      "Requirement already satisfied: MarkupSafe>=2.0 in c:\\users\\usuario\\appdata\\local\\programs\\python\\python311\\lib\\site-packages (from jinja2->torch) (3.0.2)\n",
      "Requirement already satisfied: charset-normalizer<4,>=2 in c:\\users\\usuario\\appdata\\local\\programs\\python\\python311\\lib\\site-packages (from requests->huggingface_hub) (3.4.0)\n",
      "Requirement already satisfied: idna<4,>=2.5 in c:\\users\\usuario\\appdata\\local\\programs\\python\\python311\\lib\\site-packages (from requests->huggingface_hub) (3.10)\n",
      "Requirement already satisfied: urllib3<3,>=1.21.1 in c:\\users\\usuario\\appdata\\local\\programs\\python\\python311\\lib\\site-packages (from requests->huggingface_hub) (2.2.3)\n",
      "Requirement already satisfied: certifi>=2017.4.17 in c:\\users\\usuario\\appdata\\local\\programs\\python\\python311\\lib\\site-packages (from requests->huggingface_hub) (2024.8.30)\n"
     ]
    }
   ],
   "source": [
    "!pip install torch torchvision pillow huggingface_hub\n"
   ]
  },
  {
   "cell_type": "markdown",
   "id": "09b4462b",
   "metadata": {},
   "source": [
    "## 2. Descagar modelo y labels"
   ]
  },
  {
   "cell_type": "code",
   "execution_count": 2,
   "id": "73e49ae0",
   "metadata": {},
   "outputs": [
    {
     "data": {
      "application/vnd.jupyter.widget-view+json": {
       "model_id": "0cef501074c74a279b5776707835edea",
       "version_major": 2,
       "version_minor": 0
      },
      "text/plain": [
       "Fetching 2 files:   0%|          | 0/2 [00:00<?, ?it/s]"
      ]
     },
     "metadata": {},
     "output_type": "display_data"
    },
    {
     "name": "stderr",
     "output_type": "stream",
     "text": [
      "Xet Storage is enabled for this repo, but the 'hf_xet' package is not installed. Falling back to regular HTTP download. For better performance, install the package with: `pip install huggingface_hub[hf_xet]` or `pip install hf_xet`\n"
     ]
    },
    {
     "data": {
      "application/vnd.jupyter.widget-view+json": {
       "model_id": "ae864a485e0f4633a621cf0673e2d3c8",
       "version_major": 2,
       "version_minor": 0
      },
      "text/plain": [
       "labels.txt:   0%|          | 0.00/180 [00:00<?, ?B/s]"
      ]
     },
     "metadata": {},
     "output_type": "display_data"
    },
    {
     "name": "stderr",
     "output_type": "stream",
     "text": [
      "c:\\Users\\Usuario\\AppData\\Local\\Programs\\Python\\Python311\\Lib\\site-packages\\huggingface_hub\\file_download.py:143: UserWarning: `huggingface_hub` cache-system uses symlinks by default to efficiently store duplicated files but your machine does not support them in C:\\Users\\Usuario\\.cache\\huggingface\\hub\\models--Barearojojuan--monkey-classifier-pytorch. Caching files will still work but in a degraded version that might require more space on your disk. This warning can be disabled by setting the `HF_HUB_DISABLE_SYMLINKS_WARNING` environment variable. For more details, see https://huggingface.co/docs/huggingface_hub/how-to-cache#limitations.\n",
      "To support symlinks on Windows, you either need to activate Developer Mode or to run Python as an administrator. In order to activate developer mode, see this article: https://docs.microsoft.com/en-us/windows/apps/get-started/enable-your-device-for-development\n",
      "  warnings.warn(message)\n"
     ]
    },
    {
     "data": {
      "application/vnd.jupyter.widget-view+json": {
       "model_id": "1abdc491baa94179b1c297bd95cab1b7",
       "version_major": 2,
       "version_minor": 0
      },
      "text/plain": [
       "monkey_classifier_v0.1.pth:   0%|          | 0.00/44.8M [00:00<?, ?B/s]"
      ]
     },
     "metadata": {},
     "output_type": "display_data"
    },
    {
     "name": "stdout",
     "output_type": "stream",
     "text": [
      "Modelo: True Labels: True\n"
     ]
    }
   ],
   "source": [
    "from pathlib import Path\n",
    "from huggingface_hub import snapshot_download\n",
    "import os\n",
    "\n",
    "HF_TOKEN = os.getenv(\"HF_TOKEN_READ\")\n",
    "assert HF_TOKEN, \"⚠️ Debes definir primero la variable de entorno HF_TOKEN_READ\"\n",
    "\n",
    "REPO_ID = \"Barearojojuan/monkey-classifier-pytorch\"\n",
    "local_dir = Path(snapshot_download(\n",
    "    repo_id=REPO_ID,\n",
    "    allow_patterns=[\"*.pth\", \"labels.txt\"],\n",
    "    token=HF_TOKEN\n",
    "))\n",
    "\n",
    "WEIGHTS = local_dir / \"monkey_classifier_v0.1.pth\"\n",
    "LABELS = local_dir / \"labels.txt\"\n",
    "print(\"Modelo:\", WEIGHTS.exists(), \"Labels:\", LABELS.exists())\n"
   ]
  },
  {
   "cell_type": "markdown",
   "id": "0d1e11cb",
   "metadata": {},
   "source": [
    "## 3. Definir clases y transformaciones"
   ]
  },
  {
   "cell_type": "code",
   "execution_count": 3,
   "id": "312e760a",
   "metadata": {},
   "outputs": [],
   "source": [
    "import torchvision.transforms as T\n",
    "import torch\n",
    "\n",
    "# Clases desde labels.txt\n",
    "if LABELS.exists():\n",
    "    classes = [l.strip() for l in LABELS.read_text().splitlines() if l.strip()]\n",
    "else:\n",
    "    classes = [\n",
    "        \"Mantled_howler\",\"Patas_monkey\",\"Bald_uakari\",\"Japanese_macaque\",\"Pygmy_marmoset\",\n",
    "        \"White_headed_capuchin\",\"Silvery_marmoset\",\"Common squirrel_monkey\",\n",
    "        \"Black_headed_night_monkey\",\"Nilgiri_langur\"\n",
    "    ]\n",
    "\n",
    "# Transformaciones (mismas que en tu código)\n",
    "mean = [0.4363, 0.4328, 0.3291]\n",
    "std  = [0.2129, 0.2075, 0.2038]\n",
    "\n",
    "transform = T.Compose([\n",
    "    T.Resize((224, 224)),\n",
    "    T.ToTensor(),\n",
    "    T.Normalize(torch.tensor(mean), torch.tensor(std))\n",
    "])\n"
   ]
  },
  {
   "cell_type": "markdown",
   "id": "8ed57111",
   "metadata": {},
   "source": [
    "## 4. Cargar modelo"
   ]
  },
  {
   "cell_type": "code",
   "execution_count": 5,
   "id": "7b19cb96",
   "metadata": {},
   "outputs": [
    {
     "name": "stdout",
     "output_type": "stream",
     "text": [
      "[INFO] No es TorchScript: RuntimeError\n",
      "[INFO] Checkpoint es nn.Module pickled: ResNet\n"
     ]
    },
    {
     "name": "stderr",
     "output_type": "stream",
     "text": [
      "C:\\Users\\Usuario\\AppData\\Local\\Temp\\ipykernel_20164\\1450341613.py:16: FutureWarning: You are using `torch.load` with `weights_only=False` (the current default value), which uses the default pickle module implicitly. It is possible to construct malicious pickle data which will execute arbitrary code during unpickling (See https://github.com/pytorch/pytorch/blob/main/SECURITY.md#untrusted-models for more details). In a future release, the default value for `weights_only` will be flipped to `True`. This limits the functions that could be executed during unpickling. Arbitrary objects will no longer be allowed to be loaded via this mode unless they are explicitly allowlisted by the user via `torch.serialization.add_safe_globals`. We recommend you start setting `weights_only=True` for any use case where you don't have full control of the loaded file. Please open an issue on GitHub for any issues related to this experimental feature.\n",
      "  obj = torch.load(str(weights_path), map_location=\"cpu\")\n"
     ]
    }
   ],
   "source": [
    "import torch\n",
    "import torchvision.models as models\n",
    "from collections.abc import Mapping\n",
    "\n",
    "def load_model(weights_path, num_classes):\n",
    "    # 1) Intentar TorchScript\n",
    "    try:\n",
    "        m = torch.jit.load(str(weights_path), map_location=\"cpu\")\n",
    "        m.eval()\n",
    "        print(\"[INFO] Cargado como TorchScript\")\n",
    "        return m\n",
    "    except Exception as e:\n",
    "        print(\"[INFO] No es TorchScript:\", e.__class__.__name__)\n",
    "\n",
    "    # 2) Cargar el checkpoint con torch.load\n",
    "    obj = torch.load(str(weights_path), map_location=\"cpu\")\n",
    "\n",
    "    # 2a) Si es un nn.Module pickled -> úsalo directamente\n",
    "    if isinstance(obj, torch.nn.Module):\n",
    "        obj.eval()\n",
    "        print(f\"[INFO] Checkpoint es nn.Module pickled: {obj.__class__.__name__}\")\n",
    "        return obj\n",
    "\n",
    "    # 2b) Si es un dict, puede ser state_dict o contenerlo\n",
    "    if isinstance(obj, Mapping):\n",
    "        # A veces viene el módulo en 'model'\n",
    "        if \"model\" in obj and isinstance(obj[\"model\"], torch.nn.Module):\n",
    "            m = obj[\"model\"]\n",
    "            m.eval()\n",
    "            print(f\"[INFO] Encontrado nn.Module en 'model': {m.__class__.__name__}\")\n",
    "            return m\n",
    "        # Si no, asumir que es state_dict (posiblemente en 'state_dict')\n",
    "        sd = obj.get(\"state_dict\", obj)\n",
    "    else:\n",
    "        raise TypeError(f\"Tipo de checkpoint inesperado: {type(obj)}\")\n",
    "\n",
    "    # 3) Probar backbones comunes con state_dict\n",
    "    backbones = [\n",
    "        (\"resnet18\", models.resnet18(weights=None)),\n",
    "        (\"resnet34\", models.resnet34(weights=None)),\n",
    "        (\"efficientnet_b0\", models.efficientnet_b0(weights=None)),\n",
    "    ]\n",
    "\n",
    "    last_err = None\n",
    "    for name, model in backbones:\n",
    "        try:\n",
    "            if name.startswith(\"resnet\"):\n",
    "                in_features = model.fc.in_features\n",
    "                model.fc = torch.nn.Linear(in_features, num_classes)\n",
    "            else:  # efficientnet\n",
    "                in_features = model.classifier[-1].in_features\n",
    "                model.classifier[-1] = torch.nn.Linear(in_features, num_classes)\n",
    "\n",
    "            missing, unexpected = model.load_state_dict(sd, strict=False)\n",
    "            print(f\"[INFO] Cargado con {name}: missing={len(missing)}, unexpected={len(unexpected)}\")\n",
    "            model.eval()\n",
    "            return model\n",
    "        except Exception as e:\n",
    "            last_err = e\n",
    "            print(f\"[WARN] Falló con {name}: {e}\")\n",
    "\n",
    "    raise RuntimeError(f\"No se pudo cargar el modelo con los intentos realizados. Último error: {last_err}\")\n",
    "\n",
    "model = load_model(WEIGHTS, len(classes))\n",
    "\n"
   ]
  },
  {
   "cell_type": "markdown",
   "id": "fc325fa1",
   "metadata": {},
   "source": []
  }
 ],
 "metadata": {
  "kernelspec": {
   "display_name": "Python 3",
   "language": "python",
   "name": "python3"
  },
  "language_info": {
   "codemirror_mode": {
    "name": "ipython",
    "version": 3
   },
   "file_extension": ".py",
   "mimetype": "text/x-python",
   "name": "python",
   "nbconvert_exporter": "python",
   "pygments_lexer": "ipython3",
   "version": "3.11.8"
  }
 },
 "nbformat": 4,
 "nbformat_minor": 5
}
