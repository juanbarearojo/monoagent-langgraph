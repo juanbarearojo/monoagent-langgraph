{
 "cells": [
  {
   "cell_type": "markdown",
   "id": "0ff6a339",
   "metadata": {},
   "source": [
    "# Uso de la red neuronal para la detección de monos\n"
   ]
  },
  {
   "cell_type": "markdown",
   "id": "cdad1f8d",
   "metadata": {},
   "source": [
    "## 1. Dependecias"
   ]
  },
  {
   "cell_type": "code",
   "execution_count": 1,
   "id": "afc3472b",
   "metadata": {},
   "outputs": [
    {
     "name": "stdout",
     "output_type": "stream",
     "text": [
      "Requirement already satisfied: torch in c:\\users\\usuario\\appdata\\local\\programs\\python\\python311\\lib\\site-packages (2.5.1+cu124)\n",
      "Requirement already satisfied: torchvision in c:\\users\\usuario\\appdata\\local\\programs\\python\\python311\\lib\\site-packages (0.20.1+cu124)\n",
      "Requirement already satisfied: pillow in c:\\users\\usuario\\appdata\\local\\programs\\python\\python311\\lib\\site-packages (11.1.0)\n",
      "Requirement already satisfied: huggingface_hub in c:\\users\\usuario\\appdata\\local\\programs\\python\\python311\\lib\\site-packages (0.34.3)\n",
      "Requirement already satisfied: filelock in c:\\users\\usuario\\appdata\\local\\programs\\python\\python311\\lib\\site-packages (from torch) (3.13.1)\n",
      "Requirement already satisfied: typing-extensions>=4.8.0 in c:\\users\\usuario\\appdata\\local\\programs\\python\\python311\\lib\\site-packages (from torch) (4.12.2)\n",
      "Requirement already satisfied: networkx in c:\\users\\usuario\\appdata\\local\\programs\\python\\python311\\lib\\site-packages (from torch) (3.2.1)\n",
      "Requirement already satisfied: jinja2 in c:\\users\\usuario\\appdata\\local\\programs\\python\\python311\\lib\\site-packages (from torch) (3.1.5)\n",
      "Requirement already satisfied: fsspec in c:\\users\\usuario\\appdata\\local\\programs\\python\\python311\\lib\\site-packages (from torch) (2024.2.0)\n",
      "Requirement already satisfied: sympy==1.13.1 in c:\\users\\usuario\\appdata\\local\\programs\\python\\python311\\lib\\site-packages (from torch) (1.13.1)\n",
      "Requirement already satisfied: mpmath<1.4,>=1.1.0 in c:\\users\\usuario\\appdata\\local\\programs\\python\\python311\\lib\\site-packages (from sympy==1.13.1->torch) (1.3.0)\n",
      "Requirement already satisfied: numpy in c:\\users\\usuario\\appdata\\local\\programs\\python\\python311\\lib\\site-packages (from torchvision) (1.26.3)\n",
      "Requirement already satisfied: packaging>=20.9 in c:\\users\\usuario\\appdata\\roaming\\python\\python311\\site-packages (from huggingface_hub) (24.1)\n",
      "Requirement already satisfied: pyyaml>=5.1 in c:\\users\\usuario\\appdata\\local\\programs\\python\\python311\\lib\\site-packages (from huggingface_hub) (6.0.2)\n",
      "Requirement already satisfied: requests in c:\\users\\usuario\\appdata\\local\\programs\\python\\python311\\lib\\site-packages (from huggingface_hub) (2.32.3)\n",
      "Requirement already satisfied: tqdm>=4.42.1 in c:\\users\\usuario\\appdata\\local\\programs\\python\\python311\\lib\\site-packages (from huggingface_hub) (4.66.6)\n",
      "Requirement already satisfied: colorama in c:\\users\\usuario\\appdata\\roaming\\python\\python311\\site-packages (from tqdm>=4.42.1->huggingface_hub) (0.4.6)\n",
      "Requirement already satisfied: MarkupSafe>=2.0 in c:\\users\\usuario\\appdata\\local\\programs\\python\\python311\\lib\\site-packages (from jinja2->torch) (3.0.2)\n",
      "Requirement already satisfied: charset-normalizer<4,>=2 in c:\\users\\usuario\\appdata\\local\\programs\\python\\python311\\lib\\site-packages (from requests->huggingface_hub) (3.4.0)\n",
      "Requirement already satisfied: idna<4,>=2.5 in c:\\users\\usuario\\appdata\\local\\programs\\python\\python311\\lib\\site-packages (from requests->huggingface_hub) (3.10)\n",
      "Requirement already satisfied: urllib3<3,>=1.21.1 in c:\\users\\usuario\\appdata\\local\\programs\\python\\python311\\lib\\site-packages (from requests->huggingface_hub) (2.2.3)\n",
      "Requirement already satisfied: certifi>=2017.4.17 in c:\\users\\usuario\\appdata\\local\\programs\\python\\python311\\lib\\site-packages (from requests->huggingface_hub) (2024.8.30)\n"
     ]
    }
   ],
   "source": [
    "!pip install torch torchvision pillow huggingface_hub\n"
   ]
  },
  {
   "cell_type": "markdown",
   "id": "09b4462b",
   "metadata": {},
   "source": [
    "## 2. Descagar modelo y labels"
   ]
  },
  {
   "cell_type": "code",
   "execution_count": 2,
   "id": "73e49ae0",
   "metadata": {},
   "outputs": [
    {
     "data": {
      "application/vnd.jupyter.widget-view+json": {
       "model_id": "5151549c8f474c9586a00476820aed36",
       "version_major": 2,
       "version_minor": 0
      },
      "text/plain": [
       "Fetching 2 files:   0%|          | 0/2 [00:00<?, ?it/s]"
      ]
     },
     "metadata": {},
     "output_type": "display_data"
    },
    {
     "name": "stdout",
     "output_type": "stream",
     "text": [
      "Descargado a: C:\\Users\\Usuario\\.cache\\huggingface\\hub\\models--Barearojojuan--monkey-classifier-pytorch\\snapshots\\ba07b51928511061f764ba8623562e12fcee498d\n",
      "Pesos existen: True | labels existen: True\n"
     ]
    }
   ],
   "source": [
    "from pathlib import Path\n",
    "from huggingface_hub import snapshot_download\n",
    "import os\n",
    "\n",
    "# Define tu token de lectura en el entorno antes de ejecutar esta celda:\n",
    "# Linux/Mac: export HF_TOKEN_READ=hf_xxx\n",
    "# Windows (PowerShell): setx HF_TOKEN_READ \"hf_xxx\"\n",
    "# Colab/notebook temporal: os.environ[\"HF_TOKEN_READ\"] = \"hf_xxx\"\n",
    "\n",
    "HF_TOKEN = os.getenv(\"HF_TOKEN_READ\")\n",
    "assert HF_TOKEN, \"⚠️ Define HF_TOKEN_READ en el entorno antes de ejecutar esta celda.\"\n",
    "\n",
    "REPO_ID = \"Barearojojuan/monkey-classifier-pytorch\"\n",
    "\n",
    "local_dir = Path(snapshot_download(\n",
    "    repo_id=REPO_ID,\n",
    "    allow_patterns=[\"*.pth\", \"labels.txt\"],\n",
    "    token=HF_TOKEN\n",
    "))\n",
    "\n",
    "WEIGHTS = local_dir / \"monkey_classifier_v0.1.pth\"\n",
    "LABELS = local_dir / \"labels.txt\"\n",
    "\n",
    "print(f\"Descargado a: {local_dir}\")\n",
    "print(\"Pesos existen:\", WEIGHTS.exists(), \"| labels existen:\", LABELS.exists())\n",
    "\n"
   ]
  },
  {
   "cell_type": "markdown",
   "id": "0d1e11cb",
   "metadata": {},
   "source": [
    "## 3. Definir clases y transformaciones"
   ]
  },
  {
   "cell_type": "code",
   "execution_count": 3,
   "id": "312e760a",
   "metadata": {},
   "outputs": [],
   "source": [
    "import torchvision.transforms as T\n",
    "import torch\n",
    "\n",
    "# Clases desde labels.txt\n",
    "if LABELS.exists():\n",
    "    classes = [l.strip() for l in LABELS.read_text().splitlines() if l.strip()]\n",
    "else:\n",
    "    classes = [\n",
    "        \"Mantled_howler\",\"Patas_monkey\",\"Bald_uakari\",\"Japanese_macaque\",\"Pygmy_marmoset\",\n",
    "        \"White_headed_capuchin\",\"Silvery_marmoset\",\"Common squirrel_monkey\",\n",
    "        \"Black_headed_night_monkey\",\"Nilgiri_langur\"\n",
    "    ]\n",
    "\n",
    "# Transformaciones (mismas que en tu código)\n",
    "mean = [0.4363, 0.4328, 0.3291]\n",
    "std  = [0.2129, 0.2075, 0.2038]\n",
    "\n",
    "transform = T.Compose([\n",
    "    T.Resize((224, 224)),\n",
    "    T.ToTensor(),\n",
    "    T.Normalize(torch.tensor(mean), torch.tensor(std))\n",
    "])\n"
   ]
  },
  {
   "cell_type": "markdown",
   "id": "8ed57111",
   "metadata": {},
   "source": [
    "## 4. Cargar modelo"
   ]
  },
  {
   "cell_type": "code",
   "execution_count": 4,
   "id": "7b19cb96",
   "metadata": {},
   "outputs": [
    {
     "name": "stdout",
     "output_type": "stream",
     "text": [
      "[INFO] No es TorchScript: RuntimeError\n",
      "[INFO] Checkpoint es nn.Module pickled: ResNet\n"
     ]
    },
    {
     "name": "stderr",
     "output_type": "stream",
     "text": [
      "C:\\Users\\Usuario\\AppData\\Local\\Temp\\ipykernel_25996\\1450341613.py:16: FutureWarning: You are using `torch.load` with `weights_only=False` (the current default value), which uses the default pickle module implicitly. It is possible to construct malicious pickle data which will execute arbitrary code during unpickling (See https://github.com/pytorch/pytorch/blob/main/SECURITY.md#untrusted-models for more details). In a future release, the default value for `weights_only` will be flipped to `True`. This limits the functions that could be executed during unpickling. Arbitrary objects will no longer be allowed to be loaded via this mode unless they are explicitly allowlisted by the user via `torch.serialization.add_safe_globals`. We recommend you start setting `weights_only=True` for any use case where you don't have full control of the loaded file. Please open an issue on GitHub for any issues related to this experimental feature.\n",
      "  obj = torch.load(str(weights_path), map_location=\"cpu\")\n"
     ]
    }
   ],
   "source": [
    "import torch\n",
    "import torchvision.models as models\n",
    "from collections.abc import Mapping\n",
    "\n",
    "def load_model(weights_path, num_classes):\n",
    "    # 1) Intentar TorchScript\n",
    "    try:\n",
    "        m = torch.jit.load(str(weights_path), map_location=\"cpu\")\n",
    "        m.eval()\n",
    "        print(\"[INFO] Cargado como TorchScript\")\n",
    "        return m\n",
    "    except Exception as e:\n",
    "        print(\"[INFO] No es TorchScript:\", e.__class__.__name__)\n",
    "\n",
    "    # 2) Cargar el checkpoint con torch.load\n",
    "    obj = torch.load(str(weights_path), map_location=\"cpu\")\n",
    "\n",
    "    # 2a) Si es un nn.Module pickled -> úsalo directamente\n",
    "    if isinstance(obj, torch.nn.Module):\n",
    "        obj.eval()\n",
    "        print(f\"[INFO] Checkpoint es nn.Module pickled: {obj.__class__.__name__}\")\n",
    "        return obj\n",
    "\n",
    "    # 2b) Si es un dict, puede ser state_dict o contenerlo\n",
    "    if isinstance(obj, Mapping):\n",
    "        # A veces viene el módulo en 'model'\n",
    "        if \"model\" in obj and isinstance(obj[\"model\"], torch.nn.Module):\n",
    "            m = obj[\"model\"]\n",
    "            m.eval()\n",
    "            print(f\"[INFO] Encontrado nn.Module en 'model': {m.__class__.__name__}\")\n",
    "            return m\n",
    "        # Si no, asumir que es state_dict (posiblemente en 'state_dict')\n",
    "        sd = obj.get(\"state_dict\", obj)\n",
    "    else:\n",
    "        raise TypeError(f\"Tipo de checkpoint inesperado: {type(obj)}\")\n",
    "\n",
    "    # 3) Probar backbones comunes con state_dict\n",
    "    backbones = [\n",
    "        (\"resnet18\", models.resnet18(weights=None)),\n",
    "        (\"resnet34\", models.resnet34(weights=None)),\n",
    "        (\"efficientnet_b0\", models.efficientnet_b0(weights=None)),\n",
    "    ]\n",
    "\n",
    "    last_err = None\n",
    "    for name, model in backbones:\n",
    "        try:\n",
    "            if name.startswith(\"resnet\"):\n",
    "                in_features = model.fc.in_features\n",
    "                model.fc = torch.nn.Linear(in_features, num_classes)\n",
    "            else:  # efficientnet\n",
    "                in_features = model.classifier[-1].in_features\n",
    "                model.classifier[-1] = torch.nn.Linear(in_features, num_classes)\n",
    "\n",
    "            missing, unexpected = model.load_state_dict(sd, strict=False)\n",
    "            print(f\"[INFO] Cargado con {name}: missing={len(missing)}, unexpected={len(unexpected)}\")\n",
    "            model.eval()\n",
    "            return model\n",
    "        except Exception as e:\n",
    "            last_err = e\n",
    "            print(f\"[WARN] Falló con {name}: {e}\")\n",
    "\n",
    "    raise RuntimeError(f\"No se pudo cargar el modelo con los intentos realizados. Último error: {last_err}\")\n",
    "\n",
    "model = load_model(WEIGHTS, len(classes))\n",
    "\n"
   ]
  },
  {
   "cell_type": "markdown",
   "id": "fc325fa1",
   "metadata": {},
   "source": [
    "## 5. Inferencia sobre una imagen local"
   ]
  },
  {
   "cell_type": "code",
   "execution_count": 11,
   "id": "01b1dd0c",
   "metadata": {},
   "outputs": [
    {
     "name": "stdout",
     "output_type": "stream",
     "text": [
      "=== Resumen de Inferencia ===\n",
      "Imagen: C:\\Users\\Usuario\\Desktop\\PROYECTOS\\monoagent-langgraph\\cajon_ de sastre\\vc_pruebas\\bald_monkey.jpg  (800x800)\n",
      "Predicción: cacajao_calvus  |  confianza: 1.0000\n",
      "Entropía: 0.0002\n",
      "Top-5:\n",
      "   1. cacajao_calvus                 1.0000  █████████████████████████████████████████████████\n",
      "   2. alouatta_palliata              0.0000  \n",
      "   3. cebus_capucinus                0.0000  \n",
      "   4. macaca_fuscata                 0.0000  \n",
      "   5. cebuella_pygmea                0.0000  \n",
      "\n",
      "Tensor stats  ->  min: -1.8590  max: 3.1573  mean: -0.2774  std: 0.9671\n",
      "Tiempos (ms)  ->  preprocess: 10.77  inference: 21.71  total: 32.48\n"
     ]
    },
    {
     "data": {
      "image/png": "[encoded data removed]",
      "text/plain": [
       "<Figure size 700x400 with 1 Axes>"
      ]
     },
     "metadata": {},
     "output_type": "display_data"
    }
   ],
   "source": [
    "from pathlib import Path\n",
    "from PIL import Image\n",
    "import time, torch\n",
    "\n",
    "@torch.inference_mode()\n",
    "def predict_details(\n",
    "    model,\n",
    "    image_path,\n",
    "    transform,\n",
    "    classes,\n",
    "    topk: int = 5,\n",
    "    plot: bool = True\n",
    "):\n",
    "    t0 = time.perf_counter()\n",
    "\n",
    "    # --- Cargar imagen y preprocesar ---\n",
    "    img_path = Path(image_path)\n",
    "    assert img_path.exists(), f\"No existe: {img_path}\"\n",
    "    img = Image.open(img_path).convert(\"RGB\")\n",
    "    orig_w, orig_h = img.size\n",
    "\n",
    "    x = transform(img).unsqueeze(0)  # [1, C, H, W]\n",
    "    x_min, x_max = float(x.min().item()), float(x.max().item())\n",
    "    x_mean = float(x.mean().item())\n",
    "    x_std = float(x.std().item())\n",
    "\n",
    "    # --- Inferencia ---\n",
    "    t1 = time.perf_counter()\n",
    "    logits = model(x)\n",
    "    t2 = time.perf_counter()\n",
    "\n",
    "    if isinstance(logits, (list, tuple)):\n",
    "        logits = logits[0]\n",
    "    probs = torch.softmax(logits, dim=1).squeeze(0)  # [num_classes]\n",
    "\n",
    "    # --- Top-k ---\n",
    "    k = min(int(topk), len(classes))\n",
    "    top_vals, top_idxs = torch.topk(probs, k=k)\n",
    "    top_idxs = top_idxs.tolist()\n",
    "    top_vals = top_vals.tolist()\n",
    "    top = [(classes[i], float(p)) for i, p in zip(top_idxs, top_vals)]\n",
    "\n",
    "    # --- Predicción principal ---\n",
    "    top1_idx = int(torch.argmax(probs).item())\n",
    "    top1_label = classes[top1_idx]\n",
    "    top1_conf = float(probs[top1_idx].item())\n",
    "\n",
    "    # --- Métricas adicionales ---\n",
    "    eps = 1e-12\n",
    "    entropy = -float((probs * (probs + eps).log()).sum().item())\n",
    "    logits_list = logits.squeeze(0).tolist() if logits.dim() == 2 else logits.tolist()\n",
    "\n",
    "    preprocess_ms = (t1 - t0) * 1000\n",
    "    infer_ms = (t2 - t1) * 1000\n",
    "    total_ms = (t2 - t0) * 1000\n",
    "\n",
    "    # --- Salida estructurada (devuelve por si lo necesitas en otra celda) ---\n",
    "    result = {\n",
    "        \"image_path\": str(img_path),\n",
    "        \"image_size\": {\"width\": orig_w, \"height\": orig_h},\n",
    "        \"tensor_stats\": {\"min\": x_min, \"max\": x_max, \"mean\": x_mean, \"std\": x_std},\n",
    "        \"prediction\": {\"label\": top1_label, \"index\": top1_idx, \"confidence\": top1_conf},\n",
    "        \"topk\": [{\"label\": lbl, \"prob\": float(p)} for lbl, p in top],\n",
    "        \"probs\": {classes[i]: float(probs[i].item()) for i in range(len(classes))},\n",
    "        \"logits\": {classes[i]: float(logits_list[i]) for i in range(len(classes))},\n",
    "        \"entropy\": entropy,\n",
    "        \"timing_ms\": {\"preprocess\": preprocess_ms, \"inference\": infer_ms, \"total\": total_ms}\n",
    "    }\n",
    "\n",
    "    # --- Mostrar resumen amigable ---\n",
    "    print(\"=== Resumen de Inferencia ===\")\n",
    "    print(f\"Imagen: {result['image_path']}  ({orig_w}x{orig_h})\")\n",
    "    print(f\"Predicción: {top1_label}  |  confianza: {top1_conf:.4f}\")\n",
    "    print(f\"Entropía: {entropy:.4f}\")\n",
    "    print(\"Top-{}:\".format(k))\n",
    "    for i, (lbl, p) in enumerate(top, 1):\n",
    "        bar = \"█\" * int(50 * p)\n",
    "        print(f\"  {i:>2}. {lbl:<28} {p:>8.4f}  {bar}\")\n",
    "\n",
    "    print(\"\\nTensor stats  ->  min: {min:.4f}  max: {max:.4f}  mean: {mean:.4f}  std: {std:.4f}\".format(**result[\"tensor_stats\"]))\n",
    "    print(\"Tiempos (ms)  ->  preprocess: {preprocess:.2f}  inference: {inference:.2f}  total: {total:.2f}\".format(**result[\"timing_ms\"]))\n",
    "\n",
    "    # --- Gráfico Top-k (si matplotlib disponible y plot=True) ---\n",
    "    if plot:\n",
    "        try:\n",
    "            import matplotlib.pyplot as plt\n",
    "            labels = [lbl for lbl, _ in top]\n",
    "            values = [p for _, p in top]\n",
    "            plt.figure(figsize=(7, 4))\n",
    "            plt.bar(labels, values)\n",
    "            plt.xticks(rotation=30, ha='right')\n",
    "            plt.title(f\"Top-{k} probabilidades\")\n",
    "            plt.ylabel(\"Probabilidad\")\n",
    "            plt.ylim(0, 1)\n",
    "            plt.tight_layout()\n",
    "            plt.show()\n",
    "        except Exception as e:\n",
    "            print(f\"(Aviso) No se pudo graficar Top-{k}: {e}\")\n",
    "\n",
    "    return result\n",
    "\n",
    "# 🔽 Ruta segura en Windows (usa / o r\"...\")\n",
    "test_image_path = r\"C:\\Users\\Usuario\\Desktop\\PROYECTOS\\monoagent-langgraph\\cajon_ de sastre\\vc_pruebas\\bald_monkey.jpg\"\n",
    "\n",
    "# Ejecutar\n",
    "res = predict_details(\n",
    "    model=model,\n",
    "    image_path=test_image_path,\n",
    "    transform=transform,\n",
    "    classes=classes,\n",
    "    topk=5,\n",
    "    plot=True\n",
    ")\n",
    "\n"
   ]
  },
  {
   "cell_type": "markdown",
   "id": "9ca14c3a",
   "metadata": {},
   "source": [
    "## 6. Exportar a TorchScript (+ guardar labels.json)"
   ]
  },
  {
   "cell_type": "code",
   "execution_count": 12,
   "id": "f181ae17",
   "metadata": {},
   "outputs": [
    {
     "name": "stdout",
     "output_type": "stream",
     "text": [
      "✅ Exportación completada\n",
      "Guardados:\n",
      " - export\\monkey_classifier_ts-v0.1.pt\n",
      " - export\\labels.json\n",
      "SHA256: add7e70b8e8786017b1549d388fb405a549d9986e91a56cc1f19aeca690b55c6\n",
      "\n",
      "¿Por qué exportamos de .pth (pickled nn.Module) a TorchScript (.pt)?\n",
      "\n",
      "- Seguridad: torch.load con objetos pickled puede ejecutar código en deserialización. TorchScript evita pickle.\n",
      "- Portabilidad: un .pth pickled depende de versión exacta de PyTorch/torchvision y del código Python de la clase.\n",
      "  En servidores (como Hugging Face Spaces) puede romper. TorchScript es mucho más estable/cruzado.\n",
      "- Simplicidad de despliegue: TorchScript se carga con torch.jit.load sin imports especiales de tu clase,\n",
      "  reduce dependencias y acelera el arranque.\n",
      "- Reproducibilidad: junto con labels.json (id2label/label2id/normalización/tamaño), el artefacto queda autocontenido.\n",
      "\n",
      "Conclusión: para demo y producción ligera en Spaces, TorchScript + labels.json es la práctica recomendada.\n"
     ]
    }
   ],
   "source": [
    "import json, hashlib, pathlib, textwrap\n",
    "import torch\n",
    "\n",
    "EXPORT_DIR = pathlib.Path(\"./export\")\n",
    "EXPORT_DIR.mkdir(parents=True, exist_ok=True)\n",
    "\n",
    "# 1) Exportar a TorchScript (seguro y portable)\n",
    "model.eval()\n",
    "example = torch.zeros(1, 3, 224, 224)  # ajusta si tu input difiere\n",
    "scripted = torch.jit.trace(model, example)  # o torch.jit.script(model) si tu forward tiene control-flow\n",
    "ts_path = EXPORT_DIR / \"monkey_classifier_ts-v0.1.pt\"\n",
    "scripted.save(str(ts_path))\n",
    "\n",
    "# 2) Guardar metadatos/labels (convenciones estándar)\n",
    "meta = {\n",
    "  \"id2label\": { str(i): name for i, name in enumerate(classes) },\n",
    "  \"label2id\": { name: i for i, name in enumerate(classes) },\n",
    "  \"input_size\": [1, 3, 224, 224],\n",
    "  \"normalize\": {\n",
    "    \"mean\": [0.4363, 0.4328, 0.3291],\n",
    "    \"std\":  [0.2129, 0.2075, 0.2038]\n",
    "  },\n",
    "  \"version\": \"v0.1\"\n",
    "}\n",
    "labels_json = EXPORT_DIR / \"labels.json\"\n",
    "with open(labels_json, \"w\", encoding=\"utf-8\") as f:\n",
    "    json.dump(meta, f, ensure_ascii=False, indent=2)\n",
    "\n",
    "# 3) Checksum para integridad\n",
    "sha = hashlib.sha256(open(ts_path, \"rb\").read()).hexdigest()\n",
    "\n",
    "# 4) Explicación rápida (por qué exportamos de .pth a TorchScript)\n",
    "explanation = textwrap.dedent(\"\"\"\n",
    "    ¿Por qué exportamos de .pth (pickled nn.Module) a TorchScript (.pt)?\n",
    "\n",
    "    - Seguridad: torch.load con objetos pickled puede ejecutar código en deserialización. TorchScript evita pickle.\n",
    "    - Portabilidad: un .pth pickled depende de versión exacta de PyTorch/torchvision y del código Python de la clase.\n",
    "      En servidores (como Hugging Face Spaces) puede romper. TorchScript es mucho más estable/cruzado.\n",
    "    - Simplicidad de despliegue: TorchScript se carga con torch.jit.load sin imports especiales de tu clase,\n",
    "      reduce dependencias y acelera el arranque.\n",
    "    - Reproducibilidad: junto con labels.json (id2label/label2id/normalización/tamaño), el artefacto queda autocontenido.\n",
    "\n",
    "    Conclusión: para demo y producción ligera en Spaces, TorchScript + labels.json es la práctica recomendada.\n",
    "\"\"\").strip()\n",
    "\n",
    "print(\"✅ Exportación completada\")\n",
    "print(\"Guardados:\")\n",
    "print(\" -\", ts_path)\n",
    "print(\" -\", labels_json)\n",
    "print(\"SHA256:\", sha)\n",
    "print()\n",
    "print(explanation)\n"
   ]
  },
  {
   "cell_type": "code",
   "execution_count": null,
   "id": "7d349d78",
   "metadata": {},
   "outputs": [],
   "source": []
  }
 ],
 "metadata": {
  "kernelspec": {
   "display_name": "Python 3",
   "language": "python",
   "name": "python3"
  },
  "language_info": {
   "codemirror_mode": {
    "name": "ipython",
    "version": 3
   },
   "file_extension": ".py",
   "mimetype": "text/x-python",
   "name": "python",
   "nbconvert_exporter": "python",
   "pygments_lexer": "ipython3",
   "version": "3.11.8"
  }
 },
 "nbformat": 4,
 "nbformat_minor": 5
}
